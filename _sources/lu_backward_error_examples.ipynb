{
 "cells": [
  {
   "cell_type": "markdown",
   "metadata": {
    "slideshow": {
     "slide_type": "slide"
    }
   },
   "source": [
    "# Backward error of the LU decomposition\n",
    "\n",
    "In this section we will present some examples that illuminate the behaviour of the growth factor $\\rho$ in the LU decomposition.\n",
    "We will start off by a worst case example and then present numerical experiments from the literature that indicate in practice the growth factor is rarely relevant. Indeed, in practice the LU decomposition has excellent backward stability properties."
   ]
  },
  {
   "cell_type": "markdown",
   "metadata": {
    "slideshow": {
     "slide_type": "slide"
    }
   },
   "source": [
    "## Worst-Case Instability"
   ]
  },
  {
   "cell_type": "code",
   "execution_count": 1,
   "metadata": {
    "slideshow": {
     "slide_type": "fragment"
    }
   },
   "outputs": [
    {
     "name": "stdout",
     "output_type": "stream",
     "text": [
      "[[ 1.  0.  0.  0.  0.  0.  0.  1.]\n",
      " [-1.  1.  0.  0.  0.  0.  0.  1.]\n",
      " [-1. -1.  1.  0.  0.  0.  0.  1.]\n",
      " [-1. -1. -1.  1.  0.  0.  0.  1.]\n",
      " [-1. -1. -1. -1.  1.  0.  0.  1.]\n",
      " [-1. -1. -1. -1. -1.  1.  0.  1.]\n",
      " [-1. -1. -1. -1. -1. -1.  1.  1.]\n",
      " [-1. -1. -1. -1. -1. -1. -1.  1.]]\n"
     ]
    }
   ],
   "source": [
    "import numpy as np\n",
    "\n",
    "def matrix_with_large_rho(n):\n",
    "    A = np.zeros((n,n),dtype=np.float64)\n",
    "    for j in range(n-1):\n",
    "        A += np.diag(-np.ones(n-1-j,dtype=np.float64),-j-1)\n",
    "    A +=np.diag(np.ones(n,dtype=np.float64))\n",
    "    A[:,-1]=np.ones(n)\n",
    "    return A\n",
    "print(matrix_with_large_rho(8))"
   ]
  },
  {
   "cell_type": "markdown",
   "metadata": {
    "slideshow": {
     "slide_type": "subslide"
    }
   },
   "source": [
    "Its LU decomposition has the following shape"
   ]
  },
  {
   "cell_type": "code",
   "execution_count": 2,
   "metadata": {
    "slideshow": {
     "slide_type": "fragment"
    }
   },
   "outputs": [],
   "source": [
    "from scipy.linalg import lu\n",
    "P,L,U=lu(matrix_with_large_rho(10))"
   ]
  },
  {
   "cell_type": "code",
   "execution_count": 3,
   "metadata": {
    "slideshow": {
     "slide_type": "fragment"
    }
   },
   "outputs": [
    {
     "name": "stdout",
     "output_type": "stream",
     "text": [
      "[[  1.   0.   0.   0.   0.   0.   0.   0.   0.   1.]\n",
      " [  0.   1.   0.   0.   0.   0.   0.   0.   0.   2.]\n",
      " [  0.   0.   1.   0.   0.   0.   0.   0.   0.   4.]\n",
      " [  0.   0.   0.   1.   0.   0.   0.   0.   0.   8.]\n",
      " [  0.   0.   0.   0.   1.   0.   0.   0.   0.  16.]\n",
      " [  0.   0.   0.   0.   0.   1.   0.   0.   0.  32.]\n",
      " [  0.   0.   0.   0.   0.   0.   1.   0.   0.  64.]\n",
      " [  0.   0.   0.   0.   0.   0.   0.   1.   0. 128.]\n",
      " [  0.   0.   0.   0.   0.   0.   0.   0.   1. 256.]\n",
      " [  0.   0.   0.   0.   0.   0.   0.   0.   0. 512.]]\n"
     ]
    }
   ],
   "source": [
    "print(U)"
   ]
  },
  {
   "cell_type": "markdown",
   "metadata": {
    "slideshow": {
     "slide_type": "subslide"
    }
   },
   "source": [
    "Let us plot the growth factor with respect to n."
   ]
  },
  {
   "cell_type": "code",
   "execution_count": 4,
   "metadata": {
    "slideshow": {
     "slide_type": "fragment"
    }
   },
   "outputs": [
    {
     "data": {
      "text/plain": [
       "Text(0, 0.5, 'rho')"
      ]
     },
     "execution_count": 4,
     "metadata": {},
     "output_type": "execute_result"
    },
    {
     "data": {
      "image/png": "[encoded data removed]",
      "text/plain": [
       "<Figure size 432x288 with 1 Axes>"
      ]
     },
     "metadata": {
      "needs_background": "light"
     },
     "output_type": "display_data"
    }
   ],
   "source": [
    "%matplotlib inline\n",
    "from matplotlib import pyplot as plt\n",
    "nvals = 1+np.arange(19)\n",
    "rho_vals = np.zeros_like(nvals,dtype=np.float64)\n",
    "for i,n in enumerate(nvals):\n",
    "    P,L,U = lu(matrix_with_large_rho(n))\n",
    "    rho_vals[i] = np.max(np.abs(U))\n",
    "plt.semilogy(nvals,rho_vals,'k.-')\n",
    "plt.xlabel('n')\n",
    "plt.ylabel('rho')"
   ]
  },
  {
   "cell_type": "markdown",
   "metadata": {
    "slideshow": {
     "slide_type": "subslide"
    }
   },
   "source": [
    "The growth factor $\\rho$ grows exponentially with $n$ for this matrix. What is the effect on the backward error for solving a linear system of equations?"
   ]
  },
  {
   "cell_type": "code",
   "execution_count": 6,
   "metadata": {
    "slideshow": {
     "slide_type": "fragment"
    }
   },
   "outputs": [
    {
     "name": "stdout",
     "output_type": "stream",
     "text": [
      "0.022670564761240297\n"
     ]
    }
   ],
   "source": [
    "n = 100\n",
    "A = matrix_with_large_rho(n)\n",
    "b = np.random.rand(n)\n",
    "x = np.linalg.solve(A,b)\n",
    "print(np.linalg.norm(np.dot(A,x)-b)/(np.linalg.norm(A)*np.linalg.norm(x) + np.linalg.norm(b)))"
   ]
  },
  {
   "cell_type": "code",
   "execution_count": 7,
   "metadata": {},
   "outputs": [
    {
     "data": {
      "text/plain": [
       "44.80225124630292"
      ]
     },
     "execution_count": 7,
     "metadata": {},
     "output_type": "execute_result"
    }
   ],
   "source": [
    "np.linalg.cond(A)"
   ]
  },
  {
   "cell_type": "markdown",
   "metadata": {
    "slideshow": {
     "slide_type": "fragment"
    }
   },
   "source": [
    "Hence, the backward error is huge even though the matrix has a very small condition number. It follows that **LU decomposition is not backward stable for all matrices.**"
   ]
  },
  {
   "cell_type": "markdown",
   "metadata": {
    "slideshow": {
     "slide_type": "slide"
    }
   },
   "source": [
    "## Growth factor of random matrices\n",
    "\n",
    "While we have shown an example, where the growth factor grows exponentially, in practice this does not seem to be of relevance. This is a puzzle that still concerns researchers in Numerical Linear Algebra. A beautiful study on this topic was performed by Driscoll and Maki in 2007 who numerically computed the probability density functions for certain types of random matrices to have large growth factors.\n",
    "\n",
    "The following plot shows the probability density functions for the growth factor $\\rho$ for matrices of dimension $8$, $16$, and $32$ (see [Driscoll, Maki '07](http://www.math.udel.edu/~driscoll/papers/2007-DriscollMaki-673.pdf)). It shows that large growth factors are exponentially unlikely to occur randomly. Indeed, essentially no practical application is known, where growth factors cause difficulties. Hence, **in practice Gaussian elimination with column pivoting is backward stable**."
   ]
  },
  {
   "cell_type": "markdown",
   "metadata": {
    "slideshow": {
     "slide_type": "subslide"
    }
   },
   "source": [
    "![Growth factors](growth_factors.png)"
   ]
  },
  {
   "cell_type": "markdown",
   "metadata": {},
   "source": []
  }
 ],
 "metadata": {
  "celltoolbar": "Slideshow",
  "interpreter": {
   "hash": "42014f68de5ec8dd1b986d57ba13c34861df495ba716d30160e7c663f4569539"
  },
  "kernelspec": {
   "display_name": "Python [conda env:dev]",
   "language": "python",
   "name": "python3"
  },
  "language_info": {
   "codemirror_mode": {
    "name": "ipython",
    "version": 3
   },
   "file_extension": ".py",
   "mimetype": "text/x-python",
   "name": "python",
   "nbconvert_exporter": "python",
   "pygments_lexer": "ipython3",
   "version": "3.9.9"
  }
 },
 "nbformat": 4,
 "nbformat_minor": 4
}
