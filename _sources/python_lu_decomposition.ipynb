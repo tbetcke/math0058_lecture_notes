{
 "cells": [
  {
   "cell_type": "markdown",
   "metadata": {},
   "source": [
    "# Implementing the LU decomposition in Python"
   ]
  },
  {
   "cell_type": "markdown",
   "metadata": {},
   "source": [
    "In the following we demonstrate a simple LU decomposition in Python. We also demonstrate do timing comparisions against the Python implementation from Scipy to show that **one should never use a self-implementation of the LU decomposition but always use existing Numpy/Scipy routines**."
   ]
  },
  {
   "cell_type": "code",
   "execution_count": 1,
   "metadata": {},
   "outputs": [],
   "source": [
    "import numpy as np\n",
    "from scipy.linalg import lu as scipy_lu"
   ]
  },
  {
   "cell_type": "markdown",
   "metadata": {},
   "source": []
  },
  {
   "cell_type": "code",
   "execution_count": 2,
   "metadata": {},
   "outputs": [],
   "source": [
    "def lu(A):\n",
    "    \"\"\"Our cool LU implementation.\"\"\"\n",
    "\n",
    "    if not A.shape[0] == A.shape[1]:\n",
    "        raise ValueError(\"Input matrix must be square.\")\n",
    "\n",
    "    n = A.shape[0]\n",
    "\n",
    "    L = np.zeros((n, n), dtype=np.float64)\n",
    "    U = np.zeros((n, n), dtype=np.float64)\n",
    "\n",
    "    U[:] = A\n",
    "\n",
    "    np.fill_diagonal(L, 1)\n",
    "\n",
    "    for col in range(n-1):\n",
    "        for row in range(col + 1, n):\n",
    "            L[row, col] = U[row, col] / U[col, col]\n",
    "            U[row, col:] = U[row, col:] - L[row, col] * U[col, col:]\n",
    "            U[row, col] = 0\n",
    "\n",
    "    return (L, U)\n"
   ]
  },
  {
   "cell_type": "code",
   "execution_count": 4,
   "metadata": {},
   "outputs": [
    {
     "name": "stdout",
     "output_type": "stream",
     "text": [
      "The residual is: 2.285256427880218e-13\n",
      "50.6 ms ± 474 µs per loop (mean ± std. dev. of 7 runs, 10 loops each)\n",
      "2.26 ms ± 461 µs per loop (mean ± std. dev. of 7 runs, 100 loops each)\n",
      "Runtime of our LU (s): 0.05018079660003423\n",
      "Runtime of Scipy LU (s): 0.0018813237100403057\n",
      "The speed ratio between the two implementations is: 26.673132503581297\n"
     ]
    }
   ],
   "source": [
    "n = 200\n",
    "A = np.random.randn(n, n)\n",
    "L, U = lu(A)\n",
    "\n",
    "residual = np.linalg.norm(A - L @ U) / np.linalg.norm(A)\n",
    "print(f\"The residual is: {residual}\")\n",
    "\n",
    "runtime_my_lu = %timeit -o lu(A)\n",
    "runtime_scipy_lu = %timeit -o scipy_lu(A)\n",
    "\n",
    "print(f\"Runtime of our LU (s): {runtime_my_lu.best}\")\n",
    "print(f\"Runtime of Scipy LU (s): {runtime_scipy_lu.best}\")\n",
    "\n",
    "print(f\"The speed ratio between the two implementations is: {runtime_my_lu.best / runtime_scipy_lu.best}\")"
   ]
  },
  {
   "cell_type": "code",
   "execution_count": null,
   "metadata": {},
   "outputs": [],
   "source": []
  }
 ],
 "metadata": {
  "interpreter": {
   "hash": "31f2aee4e71d21fbe5cf8b01ff0e069b9275f58929596ceb00d14d90e3e16cd6"
  },
  "kernelspec": {
   "display_name": "Python 3.6.15 64-bit",
   "language": "python",
   "name": "python3"
  },
  "language_info": {
   "codemirror_mode": {
    "name": "ipython",
    "version": 3
   },
   "file_extension": ".py",
   "mimetype": "text/x-python",
   "name": "python",
   "nbconvert_exporter": "python",
   "pygments_lexer": "ipython3",
   "version": "3.9.10"
  },
  "orig_nbformat": 4
 },
 "nbformat": 4,
 "nbformat_minor": 2
}
