{
 "cells": [
  {
   "cell_type": "markdown",
   "id": "e9ca9fff",
   "metadata": {},
   "source": [
    "# Introduction to interpolation"
   ]
  },
  {
   "cell_type": "markdown",
   "id": "6ec953b7",
   "metadata": {},
   "source": [
    "We consider the following task. Given $n+1$ distinct points $x_0,x_1,\\dots,x_n$, and $n+1$ values $y_0,y_1,\\dots,y_n$. Find a polynomial $p_n$ of maximum degree $n$, such that $p(x_j)=y_j$.\n",
    "\n",
    "In this section we will answer the following questions:\n",
    "\n",
    "   1. Does a polynomial $p_n$ with $p_n(x_j)=y_j$ always exist, and if yes, is it unique?\n",
    "   2. How can we construct such a polynomial in practice?\n",
    "   3. If the values $y_j$ are samples of a function. Do we convergence to the function if $n\\rightarrow\\infty$?\n",
    "\n"
   ]
  },
  {
   "cell_type": "markdown",
   "id": "f17a9f00",
   "metadata": {},
   "source": [
    "## Existence and uniqueness of polynomial interpolation\n",
    "\n",
    "Let $p_n(x)=a_0+a_1x+a_2x^2+\\dots+a_nx^n$. We define the following matrix.\n",
    "\n",
    "$$\n",
    "V = \\begin{bmatrix}\n",
    "1 & x_0 & x_0^2 & \\dots & x_0^n\\\\\n",
    "1 & x_1 & x_1^2 & \\dots & x_1^n\\\\\n",
    "\\vdots & \\vdots & \\vdots & \\dots & \\vdots \\\\\n",
    "1 & x_n & x_n^2 & \\dots & x_n^n\n",
    "\\end{bmatrix}\n",
    "$$\n",
    "\n",
    "It is called a Vandermonde matrix. With this matrix the interpolation problem can be equivalently posed as\n",
    "$$\n",
    "V\\begin{bmatrix}a_0\\\\ a_1\\\\ \\vdots\\\\ a_n\\end{bmatrix}\n",
    "=\n",
    "\\begin{bmatrix}y_0 \\\\ y_1 \\\\ \\vdots \\\\ y_n\\end{bmatrix}.\n",
    "$$\n",
    "Hence, existence and uniqueness follows immediately if $V$ is nonsingular.\n",
    "\n",
    "### Theorem\n",
    "\n",
    "We have $\\det(V)=\\prod_{0\\leq i<j\\leq n}(x_j-x_i)$. Hence, if $x_i\\neq x_j$ for all $i\\neq j$ the Vandermonde matrix is nonsingular and there exists a unique interpolation polynomial $p_n$ with $p_n(x_j)=y_j$.\n",
    "\n",
    "\n",
    "The proof is based on elementary expansions of the determinant. However, here we will proceed differently to proof existence and uniqueness, using the Lagrange interpolation polynomial. This will at the same time also provide a constructive method to obtain  𝑝𝑛 . The reason why Vandermonde matrices are rarely used in practice is given below. Their condition numbers grow exponentially for a simple problem with equally spaced points on the real line.\n"
   ]
  },
  {
   "cell_type": "code",
   "execution_count": 1,
   "id": "e01c3215",
   "metadata": {},
   "outputs": [
    {
     "name": "stdout",
     "output_type": "stream",
     "text": [
      "Condition number for n=10: 4.626450e+03\n",
      "Condition number for n=20: 2.722408e+08\n",
      "Condition number for n=30: 1.838825e+13\n",
      "Condition number for n=40: 1.907921e+17\n",
      "Condition number for n=50: 1.372760e+19\n",
      "Condition number for n=60: 1.329293e+19\n",
      "Condition number for n=70: 3.437477e+19\n",
      "Condition number for n=80: 7.048424e+19\n",
      "Condition number for n=90: 1.213379e+20\n"
     ]
    }
   ],
   "source": [
    "#Numerical properties of Vandermonde matrices.\n",
    "import numpy as np\n",
    "\n",
    "nvec = range(10,100,10)\n",
    "\n",
    "for n in nvec:\n",
    "    x = np.linspace(-1,1,n)\n",
    "    A = np.vander(x)\n",
    "    print(\"Condition number for n=%i: %e\" % (n,np.linalg.cond(A)))\n"
   ]
  },
  {
   "cell_type": "markdown",
   "id": "e484c2f6",
   "metadata": {},
   "source": [
    "## Lagrange Interpolation"
   ]
  },
  {
   "cell_type": "markdown",
   "id": "8c96189b",
   "metadata": {},
   "source": [
    "We consider the simpler problem that $y_k=1$ for a given $k$, and $y_j=0$ for $k\\neq \\ell$. We can explicitly construct a solution as\n",
    "\n",
    "$$\n",
    "L_k(x)= \\prod_{j=0,j\\neq k}^n \\frac{(x-x_j)}{(x_k-x_j)}\n",
    "$$\n",
    "It follows immediately that $\\text{deg}(L_k)=n$, $L_k(x_k)=1$, $L_k(x_j)=0$ for $j\\neq k$. The functions $L_k$ are called Lagrange interpolation polynomials.\n"
   ]
  },
  {
   "cell_type": "markdown",
   "id": "48787a51",
   "metadata": {},
   "source": [
    "The solution to the original interpolation problem is now simply constructed as\n",
    "\n",
    "$$\n",
    "p_n(x)= \\sum_{k=0}^ny_kL_k(x).\n",
    "$$\n",
    "\n",
    "The above form of the interpolation polynomial is called Lagrange interpolation polynomial. We still need to prove uniqueness."
   ]
  },
  {
   "cell_type": "markdown",
   "id": "d0526840",
   "metadata": {},
   "source": [
    "**Theorem**\n",
    "There exists exactly one interpolation polynomial.\n",
    "\n",
    "**Proof**\n",
    "Let $q_n(x)$ be an other polynomial of maximum degree $n$ that satisfies $q_n(x_j)=y_j$. Let $w_n:=p_n-q_n$. We then have $w(x_j)=0$, $j=0,\\dots,n$. Hence, the polynomial $w_n$ is a polynomial of maximum degree $n$ with $n+1$ distinct zeros. But since a nontrivial polynomial can only have at most $n$ zeros it follows that $w\\equiv 0$, showing that $p_n$ is the unique interpolation polynomial."
   ]
  },
  {
   "cell_type": "markdown",
   "id": "6962a7c8",
   "metadata": {},
   "source": [
    "## Barycentric Interpolation\n",
    "\n",
    "In practice often a different form of Lagrange interpolation is used, called Barycentric Interpolation. \n",
    "\n",
    "Let $\\ell(x)=\\prod_{j=0}^n(x-x_j)$, and define $w_k=\\left[\\prod_{j=0,j\\neq k}^n(x_k-x_j)\\right]^{-1}$. It follows that\n",
    "\n",
    "$$\n",
    "L_k(x)=\\ell(x)\\frac{w_k}{x-x_k},\n",
    "$$\n",
    "and therefore\n",
    "\n",
    "$$\n",
    "p_n(x)=\\ell(x)\\sum_{k=0}^n \\frac{w_k}{x-x_k}y_k.\n",
    "$$"
   ]
  },
  {
   "cell_type": "markdown",
   "id": "4288121f",
   "metadata": {},
   "source": [
    "This is called the first Barycentric form. It allows the evaluation of $p_n(x)$ in $\\mathcal{O}(n)$ operations if the $w_k$ are pre-computed. However, we can be even simpler. Interpolating the constant function $1$ gives\n",
    "\n",
    "$$\n",
    "1=\\ell(x)\\sum_{k=0}^n \\frac{w_k}{x-x_i}.\n",
    "$$"
   ]
  },
  {
   "cell_type": "markdown",
   "id": "8cbaa2c8",
   "metadata": {},
   "source": [
    "Hence, we have \n",
    "\n",
    "$$\n",
    "p_n(x)=\\frac{\\sum_{k=0}^n \\frac{w_k}{x-x_k}y_k}{\\sum_{k=0}^n \\frac{w_k}{x-x_k}}.\n",
    "$$\n",
    "This is called the second Barycentric form. It avoids the evaluation of $\\ell(x)$ altogether.\n"
   ]
  },
  {
   "cell_type": "markdown",
   "id": "20cac85d",
   "metadata": {},
   "source": [
    "## The Runge phenomenon\n",
    "\n",
    "Consider the following approximation problem. Given a continuous function $f$ in $[a,b]$. Find polynomials $p_n$ of maximum degree $n$, such that\n",
    "\n",
    "$$\n",
    "\\lim_{n\\rightarrow\\infty}\\left(\\max_{a\\leq x\\leq b}|f(x)-p_n(x)|\\right)=0.\n",
    "$$"
   ]
  },
  {
   "cell_type": "markdown",
   "id": "16bcb4c3",
   "metadata": {},
   "source": [
    "### Weierstrass approximation theorem\n",
    "\n",
    "Let $f$ be a continuous function in $[a,b]$. For every $\\epsilon>0$ there exists a polynomial $p(x)$, such that\n",
    "\n",
    "$$\n",
    "\\max_{a\\leq x\\leq b}|f(x)-p(x)|<\\epsilon.\n",
    "$$\n",
    "\n",
    "Can we use interpolation in equidistant points to find these polynomials?"
   ]
  },
  {
   "cell_type": "markdown",
   "id": "33bcf73b",
   "metadata": {},
   "source": [
    "Let $x_j=a+\\frac{j}{n}(b-a)$, $j=0,\\dots,n$. Given a continuous function $f$. What is the behavior of\n",
    "\n",
    "$$\n",
    "e_n:=\\max_{a\\leq x\\leq b}|f(x)-p_n(x)|\n",
    "$$\n",
    "as $n\\rightarrow\\infty$, where $p_n$ is the Lagrange interpolation polynomial at the points $x_j$ with data $y_j=f(x_j)$?\n",
    "\n",
    "It turns out that $e_n\\rightarrow 0$ needs not be the case even though we could naively assume that using more points and higher degree polynomials should lead to convergence. However, we may receive large oscillations at the edges of the interval. This is called Runge's phenomenon."
   ]
  },
  {
   "cell_type": "code",
   "execution_count": 2,
   "id": "4937daca",
   "metadata": {},
   "outputs": [
    {
     "data": {
      "text/plain": [
       "<matplotlib.legend.Legend at 0x7f55049077f0>"
      ]
     },
     "execution_count": 2,
     "metadata": {},
     "output_type": "execute_result"
    },
    {
     "data": {
      "image/png": "[encoded data removed]",
      "text/plain": [
       "<Figure size 432x288 with 1 Axes>"
      ]
     },
     "metadata": {
      "needs_background": "light"
     },
     "output_type": "display_data"
    }
   ],
   "source": [
    "%matplotlib inline\n",
    "\n",
    "#Runge's phenomenon in Python\n",
    "from scipy.interpolate import barycentric_interpolate\n",
    "import numpy as np\n",
    "from matplotlib import pyplot as plt\n",
    "\n",
    "n=10 # Number of interpolation points\n",
    "m=1000 # Number of points at which to evaluate the interpolation pol.\n",
    "x=np.linspace(-1,1,n)\n",
    "y=1/(1+25*x**2)\n",
    "xeval=np.linspace(-1,1,m)\n",
    "yeval=barycentric_interpolate(x,y,xeval)\n",
    "yexact=1/(1+25*xeval**2)\n",
    "\n",
    "plt.plot(xeval,yexact,'r--',label='f(x)')\n",
    "plt.plot(xeval,yeval,label='p_n(x)')\n",
    "plt.legend()"
   ]
  },
  {
   "cell_type": "markdown",
   "id": "6a37bcab",
   "metadata": {},
   "source": [
    "Note that this phenomenon does not need to hold for all functions. In particular, periodic functions can be very well approximated by interpolation in equispaced points as the following example for the $\\sin$ function shows."
   ]
  },
  {
   "cell_type": "code",
   "execution_count": 3,
   "id": "fc876d0f",
   "metadata": {},
   "outputs": [
    {
     "data": {
      "text/plain": [
       "<matplotlib.legend.Legend at 0x7f55047976d0>"
      ]
     },
     "execution_count": 3,
     "metadata": {},
     "output_type": "execute_result"
    },
    {
     "data": {
      "image/png": "[encoded data removed]",
      "text/plain": [
       "<Figure size 432x288 with 1 Axes>"
      ]
     },
     "metadata": {
      "needs_background": "light"
     },
     "output_type": "display_data"
    }
   ],
   "source": [
    "%matplotlib inline\n",
    "#Interpolation of a periodic function.\n",
    "from scipy.interpolate import barycentric_interpolate\n",
    "import numpy as np\n",
    "from matplotlib import pyplot as plt\n",
    "\n",
    "n=10# Number of interpolation points\n",
    "m=1000 # Number of points at which to evaluate the interpolation pol.\n",
    "x=np.linspace(-1,1,n)\n",
    "y=np.sin(np.pi*x)\n",
    "xeval=np.linspace(-1,1,m)\n",
    "yeval=barycentric_interpolate(x,y,xeval)\n",
    "yexact=np.sin(np.pi*xeval)\n",
    "plt.plot(xeval,yexact,'r--',label='f(x)')\n",
    "plt.plot(xeval,yeval,label='p_n(x)')\n",
    "plt.legend()\n"
   ]
  },
  {
   "cell_type": "markdown",
   "id": "0a216708",
   "metadata": {},
   "source": [
    "## Approximation of functions by polynomials"
   ]
  },
  {
   "cell_type": "markdown",
   "id": "23328927",
   "metadata": {},
   "source": [
    "Let $f$ be a given function on the interval $[-1,1]$. Let $\\Pi_n$ be the space of all polynomials of degree at most $n$. The task is to represent $f$ by a polynomial in $\\Pi_n$. One way is interpolation, which we have just discussed. Another possibility is Approximation. When we approximate $f$ by a polynomial in $\\Pi_n$ we are looking for a polynomial $p\\in\\Pi_n$ such that the error $e_n:=\\|p_n(x)-f(x)\\|$ is minimized. Here, $\\|\\cdot\\|$ is a suitable norm to measure the error. Above we have already seen the error in the maximum norm $e_n:=\\max_{x\\in[-1,1]} p_n|$. But other error norms are possible. The following code implements approximation in the energy norm\n",
    "\n",
    "$$\n",
    "\\|p_n(x)-f(x)\\|^2 = \\int_{-1}^1|p_n(x)-f(x)|^2dx.\n",
    "$$"
   ]
  },
  {
   "cell_type": "code",
   "execution_count": 4,
   "id": "725b34e3",
   "metadata": {
    "scrolled": true
   },
   "outputs": [
    {
     "name": "stderr",
     "output_type": "stream",
     "text": [
      "/tmp/ipykernel_55856/3931031051.py:19: FutureWarning: `rcond` parameter will change to the default of machine precision times ``max(M, N)`` where M and N are the input matrix dimensions.\n",
      "To use the future default and silence this warning we advise to pass `rcond=None`, to keep using the old, explicitly pass `rcond=-1`.\n",
      "  sol,res,rank,s = np.linalg.lstsq(A,fun(x))\n"
     ]
    },
    {
     "data": {
      "text/plain": [
       "Text(0, 0.5, 'Error')"
      ]
     },
     "execution_count": 4,
     "metadata": {},
     "output_type": "execute_result"
    },
    {
     "data": {
      "image/png": "[encoded data removed]",
      "text/plain": [
       "<Figure size 432x288 with 1 Axes>"
      ]
     },
     "metadata": {
      "needs_background": "light"
     },
     "output_type": "display_data"
    }
   ],
   "source": [
    "%matplotlib inline\n",
    "from matplotlib import pyplot as plt\n",
    "\n",
    "import numpy as np\n",
    "\n",
    "nn = range(1,40)\n",
    "\n",
    "nsample = 500\n",
    "fun = lambda x: 1./(1+25*x**2)\n",
    "\n",
    "residuals = []\n",
    "\n",
    "for n in nn:\n",
    "    \n",
    "    x = np.linspace(-1,1,nsample+1)\n",
    "    h = 2./nsample\n",
    "    \n",
    "    A =  np.vander(x,n)\n",
    "    sol,res,rank,s = np.linalg.lstsq(A,fun(x))\n",
    "    residuals.append(h * np.sqrt(res))\n",
    "    \n",
    "plt.semilogy(nn, residuals)\n",
    "plt.xlabel('Degree')\n",
    "plt.ylabel('Error')"
   ]
  },
  {
   "cell_type": "code",
   "execution_count": null,
   "id": "80f67e4f",
   "metadata": {},
   "outputs": [],
   "source": []
  }
 ],
 "metadata": {
  "kernelspec": {
   "display_name": "Python 3 (ipykernel)",
   "language": "python",
   "name": "python3"
  },
  "language_info": {
   "codemirror_mode": {
    "name": "ipython",
    "version": 3
   },
   "file_extension": ".py",
   "mimetype": "text/x-python",
   "name": "python",
   "nbconvert_exporter": "python",
   "pygments_lexer": "ipython3",
   "version": "3.9.10"
  }
 },
 "nbformat": 4,
 "nbformat_minor": 5
}
