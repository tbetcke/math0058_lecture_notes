{
 "cells": [
  {
   "cell_type": "markdown",
   "id": "d00bfa34",
   "metadata": {},
   "source": [
    "# Numerical quadrature"
   ]
  },
  {
   "cell_type": "markdown",
   "id": "46e32b5d",
   "metadata": {},
   "source": [
    "One application of interpolation is the numerical integration (or quadrature) of functions. Given a complicated function $f$ in an interval $[a,b]$. Instead of evaluating\n",
    "\n",
    "$$\n",
    "I:=\\int_a^bf(x)dx\n",
    "$$\n",
    "\n",
    "we evaluate\n",
    "\n",
    "$$\n",
    "I_n:=\\int_a^bp_n(x)dx,\n",
    "$$\n",
    "\n",
    "where $p_n$ interpolates $f$ at a given set of points."
   ]
  },
  {
   "cell_type": "markdown",
   "id": "1b994484",
   "metadata": {},
   "source": [
    "## Newton-Cotes formulae\n",
    "\n",
    "We now describe the derivation of Newton-Cotes integration formulae. Define\n",
    "\n",
    "$$\n",
    "x_j=a+ih, i=0,\\dots,n\n",
    "$$\n",
    "with $h=\\frac{b-a}{n}$.\n",
    "\n",
    "We interpolate $f$ using a Lagrange interpolation polynomial of the form\n",
    "\n",
    "$$\n",
    "p_n(x)=\\sum_{k=0}^nL_k(x)f(x_k).\n",
    "$$\n",
    "\n",
    "We obtain\n",
    "\n",
    "$$\n",
    "\\int_a^bf(x)dx\\approx \\int_a^b\\sum_{k=0}^nL_k(x)f(x_k)=\\sum_{k=0}^nf(x_k)\\int_a^bL_k(x)dx:=\\sum_{k=0}^nf(x_k)\\omega_k,\n",
    "$$\n",
    "where the $\\omega_k:=\\int_a^bL_k(x)dx$ are called integration weights. They are independent of the function to integrate and can be precomputed and tabulated.\n",
    "\n",
    "We note two simple observations for Newton-Cotes rules:\n",
    "\n",
    "1. The sum of the weights $\\omega_k$ is always $b - a$. This follows from integrating the\n",
    "constant function $1$.\n",
    "\n",
    "2. The weights are symmetric in the sense that $\\omega_j = \\omega_{n-j}$. This follows\n",
    "from the symmetry of the $L_k$ with respect to the middle of the interval $[a,b]$.\n",
    "\n",
    "Two particular examples of Newton-Cotes rules are:\n",
    "\n",
    "Trapezoid Rule (n=1): $\\int_a^bf(x)dx\\approx \\frac{b-a}{2}\\left[f(a)+f(b)\\right]$.\n",
    "\n",
    "Simpson's Rule (n=2): $\\int_a^bf(x)dx\\approx \\frac{b-a}{6}\\left[f(a)+4f((a+b)/2)+f(b)\\right]$\n"
   ]
  },
  {
   "cell_type": "markdown",
   "id": "6ac6eaae",
   "metadata": {},
   "source": [
    "## Error estimates\n",
    "\n",
    "The error $E_n$ of a quadrature formula is defined as $E_n(f):=\\int_a^bf(x)dx-\\sum_{k=0}^n\\omega_kf(x_k)$. We now have\n",
    "\n",
    "$$\n",
    "|E_n(f)|=\\left|\\int_a^b\\left[f(x)-L_k(x)f(x_k)\\right]dx\\right|\\leq \\int_a^b|f(x)-p_n(x)|dx.\n",
    "$$\n",
    "The last integral can be estimated as\n",
    "\n",
    "$$\n",
    "|E_n(x)|\\leq \\frac{M_{n+1}}{(n+1)!}\\int_a^b|(x-x_0)\\dots(x-x_n)|dx,\n",
    "$$\n",
    "where $M_{n+1}=\\max_{\\xi\\in[a,b]}|f^{(n+1)}(\\xi)|$."
   ]
  },
  {
   "cell_type": "markdown",
   "id": "554c5f6c",
   "metadata": {},
   "source": [
    "## Runge phenomenon for Newton-Cotes rules\n",
    "\n",
    "If we increase the order of the Newton-Cotes rule then apart from special cases we will encounter the Runge phenomenon. Hence, in order to achieve high accuracy we need to do something else. In practice one often uses so-called composite rules. The idea is that we split $[a,b]$ into $m$ subintervals $[\\tau_i,\\tau_{i+1}]$ with $\\tau_i=a+\\frac{i}{m}(b-a)$, $i=0,\\dots,m-1$, and apply a low-order Newton-Cotes rule in each subinterval. "
   ]
  },
  {
   "cell_type": "code",
   "execution_count": null,
   "id": "26145ea4",
   "metadata": {},
   "outputs": [],
   "source": []
  }
 ],
 "metadata": {
  "kernelspec": {
   "display_name": "Python 3 (ipykernel)",
   "language": "python",
   "name": "python3"
  },
  "language_info": {
   "codemirror_mode": {
    "name": "ipython",
    "version": 3
   },
   "file_extension": ".py",
   "mimetype": "text/x-python",
   "name": "python",
   "nbconvert_exporter": "python",
   "pygments_lexer": "ipython3",
   "version": "3.9.10"
  }
 },
 "nbformat": 4,
 "nbformat_minor": 5
}
