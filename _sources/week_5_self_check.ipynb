{
 "cells": [
  {
   "cell_type": "markdown",
   "metadata": {},
   "source": [
    "# Week 5 Self check questions and solutions"
   ]
  },
  {
   "cell_type": "markdown",
   "metadata": {},
   "source": [
    "Question 1:\n",
    "\n",
    "Determine the $2\\times 2$ matrix $Q$ that rotates a vector by an angle $\\theta$. Is this matrix orthogonal? Show that $Q^{-1}$ is identical to the matrix that rotates vectors by an angle of $-\\theta$."
   ]
  },
  {
   "cell_type": "markdown",
   "metadata": {},
   "source": [
    "Solution:\n",
    "    \n",
    "The rotation matrix is given as follows:\n",
    "\n",
    "$$\n",
    "Q = \n",
    "\\begin{bmatrix}\n",
    "\\cos\\theta & -\\sin\\theta\\\\\n",
    "\\sin\\theta & \\cos\\theta\n",
    "\\end{bmatrix}\n",
    "$$\n",
    "\n",
    "The matrix $Q$ is orthogonal since $Q^TQ=I$. The rotation matrix for the angle $-\\theta$ is obtained as\n",
    "\n",
    "$$\n",
    "\\hat{Q} =\n",
    "\\begin{bmatrix}\n",
    "\\cos\\theta & +\\sin\\theta\\\\\n",
    "-\\sin\\theta & \\cos\\theta\n",
    "\\end{bmatrix},\n",
    "$$\n",
    "\n",
    "which is just the transpose of $Q$. Hence, as expected the inverse of $Q$ is just the rotation by $-\\theta$."
   ]
  },
  {
   "cell_type": "markdown",
   "metadata": {},
   "source": [
    "Question 2:\n",
    "    \n",
    "Let $u\\in\\mathbb{R}^n$ with $\\|u\\|_2=1$. Define $P=uu^T$. Show that $P=P^2$. Is $P$ an orthogonal matrix? Describe what $P$ is doing. Matrices that satisfy $P=P^2$ are also called projectors."
   ]
  },
  {
   "cell_type": "markdown",
   "metadata": {},
   "source": [
    "We have\n",
    "\n",
    "$$\n",
    "P^2 = uu^Tuu^T = uu^T\n",
    "$$\n",
    "\n",
    "since $u^Tu = 1$.\n",
    "\n",
    "$P$ is not orthogonal since it is singular. If $v\\bot u$ then $Pv = 0$. $Px$ is the projection of a vector $x$ along $u$, that is it cancels out all components of $x$ orthogonal to $u$."
   ]
  },
  {
   "cell_type": "markdown",
   "metadata": {},
   "source": [
    "Question 3:\n",
    "    \n",
    "Let $P=P^2$ be a projector satisfying $P=P^T$. Show that $Q=I-2P$ is an orthogonal matrix. Give a geometric interpretation of $Q$."
   ]
  },
  {
   "cell_type": "markdown",
   "metadata": {},
   "source": [
    "Solution:\n",
    "    \n",
    "We have\n",
    "\n",
    "$$\n",
    "(I-2P)^T(I-2P) = (I -2P)^2 = I - 4P + 4P^2 = I\n",
    "$$\n",
    "\n",
    "since $P=P^T$ and $P^2=P$. The matrix $Q$ is a reflector. All components orthogonal to $P$ are left untouched while all components in the range of $P$ are subtracted twice, therefore being reflected. In the special case that $P=uu^T$ for $\\|u\\|_2=1$ the matrix $Q$ is called a Householder reflector."
   ]
  },
  {
   "cell_type": "markdown",
   "metadata": {},
   "source": [
    "Question 4:"
   ]
  },
  {
   "cell_type": "markdown",
   "metadata": {},
   "source": [
    "In the following we define two different ways of orthogonalising a set of vectors."
   ]
  },
  {
   "cell_type": "code",
   "execution_count": 6,
   "metadata": {},
   "outputs": [],
   "source": [
    "import numpy as np\n",
    "\n",
    "def gram_schmidt(A):\n",
    "    \"\"\"Returns an orthogonal basis for the columns in A.\"\"\"\n",
    "    \n",
    "    m = A.shape[0]\n",
    "    n = A.shape[1]\n",
    "    \n",
    "    Q = np.zeros((m, n), dtype=np.float64)\n",
    "    Q[:, 0] = A[:, 0] / np.linalg.norm(A[:, 0])\n",
    "    \n",
    "    for col in range(1, n):\n",
    "        t = A[:, col]\n",
    "        inner_products = Q[:, :col].T @ t\n",
    "        t -= Q[:, :col] @ inner_products\n",
    "        Q[:, col] = t / np.linalg.norm(t)\n",
    "    \n",
    "    return Q\n",
    "    \n",
    "def modified_gram_schmidt(A):\n",
    "    \"\"\"Return an orthogonal basis for the columns in A\"\"\"\n",
    "    \n",
    "    \n",
    "    m = A.shape[0]\n",
    "    n = A.shape[1]\n",
    "    \n",
    "    Q = np.zeros((m, n), dtype=np.float64)\n",
    "    Q[:, 0] = A[:, 0] / np.linalg.norm(A[:, 0])\n",
    "    \n",
    "    for col in range(1, n):\n",
    "        t = A[:, col]\n",
    "        for index in range(col):\n",
    "            t -= Q[:, index] * (np.inner(Q[:, index], t))\n",
    "        Q[:, col] = t / np.linalg.norm(t)\n",
    "    \n",
    "    return Q\n"
   ]
  },
  {
   "cell_type": "markdown",
   "metadata": {},
   "source": [
    "Describe the difference between the two formulations and convince yourself that they are algebraically equivalent. Can you numerically demonstrate that the modified formulation is more accurate in floating point arithmetic?"
   ]
  },
  {
   "cell_type": "markdown",
   "metadata": {},
   "source": [
    "Solution:\n",
    "    \n",
    "The Gram-Schmidt orthogonalisation first forms all inner product against the previous vectors and then subtracts, while the modified Gram-Schmidt method subtracts immediately after forming the inner product with a previous column $q$. Modified Gram-Schmidt is just a reordering of the orthogonalisation. However, it is possible to show that modified Gram-Schmidt is numerically more stable.\n",
    "\n",
    "In the example below we orthogonalise a matrix $A$ with both methods and then compare the resulting matrix $Q$ with the identitiy matrix. The relative residual of modified Gram-Schmidt is much closer to machine precision than that of Gram-Schmidt. In practice therefore usually modified Gram-Schmidt is used."
   ]
  },
  {
   "cell_type": "code",
   "execution_count": 10,
   "metadata": {},
   "outputs": [
    {
     "name": "stdout",
     "output_type": "stream",
     "text": [
      "Residual for Gram-Schmidt: 4.610285906483318e-11\n",
      "Residual for modified Gram-Schmidt: 1.1165488100397485e-15\n"
     ]
    }
   ],
   "source": [
    "\n",
    "m = 1000\n",
    "n = 1000\n",
    "\n",
    "A = np.random.rand(m, n)\n",
    "Q_gs = gram_schmidt(A)\n",
    "Q_mgs = modified_gram_schmidt(A)\n",
    "\n",
    "ident = np.eye(n)\n",
    "res_gs = np.linalg.norm(Q_gs.T @ Q_gs - ident) / np.linalg.norm(ident)\n",
    "res_mgs = np.linalg.norm(Q_mgs.T @ Q_mgs - ident) / np.linalg.norm(ident)\n",
    "\n",
    "print(f\"Residual for Gram-Schmidt: {res_gs}\")\n",
    "print(f\"Residual for modified Gram-Schmidt: {res_mgs}\")"
   ]
  }
 ],
 "metadata": {
  "kernelspec": {
   "display_name": "Python 3 (ipykernel)",
   "language": "python",
   "name": "python3"
  },
  "language_info": {
   "codemirror_mode": {
    "name": "ipython",
    "version": 3
   },
   "file_extension": ".py",
   "mimetype": "text/x-python",
   "name": "python",
   "nbconvert_exporter": "python",
   "pygments_lexer": "ipython3",
   "version": "3.9.10"
  }
 },
 "nbformat": 4,
 "nbformat_minor": 4
}
